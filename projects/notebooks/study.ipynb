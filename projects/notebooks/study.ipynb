{
 "cells": [
  {
   "cell_type": "code",
   "execution_count": 1,
   "metadata": {},
   "outputs": [
    {
     "name": "stderr",
     "output_type": "stream",
     "text": [
      "/Users/igorlimarochaazevedo/Programming/neural_networks/deep_learning_174/venv/lib/python3.10/site-packages/pydub/utils.py:170: RuntimeWarning: Couldn't find ffmpeg or avconv - defaulting to ffmpeg, but may not work\n",
      "  warn(\"Couldn't find ffmpeg or avconv - defaulting to ffmpeg, but may not work\", RuntimeWarning)\n"
     ]
    }
   ],
   "source": [
    "from manim import *\n",
    "\n",
    "# Custom scene for XOR visualization\n",
    "class XORNeuralNetwork(Scene):\n",
    "    def construct(self):\n",
    "        # Creating the neurons in the input, hidden, and output layers\n",
    "        input_neurons = self.create_layer([-3, 1.5, 0], 2, \"Input\")\n",
    "        hidden_neurons = self.create_layer([0, 0, 0], 2, \"Hidden\")\n",
    "        output_neurons = self.create_layer([3, 0, 0], 1, \"Output\")\n",
    "\n",
    "        # Add labels to the layers\n",
    "        input_label = Text(\"Input Layer\").next_to(input_neurons, UP)\n",
    "        hidden_label = Text(\"Hidden Layer\").next_to(hidden_neurons, UP)\n",
    "        output_label = Text(\"Output Layer\").next_to(output_neurons, UP)\n",
    "        self.add(input_label, hidden_label, output_label)\n",
    "\n",
    "        # Create connections between neurons\n",
    "        self.connect_layers(input_neurons, hidden_neurons)\n",
    "        self.connect_layers(hidden_neurons, output_neurons)\n",
    "\n",
    "        # Forward pass animation\n",
    "        self.play_forward_pass(input_neurons, hidden_neurons, output_neurons)\n",
    "\n",
    "    def create_layer(self, position, num_neurons, label):\n",
    "        \"\"\"Create a layer of neurons.\"\"\"\n",
    "        neurons = VGroup()\n",
    "        for i in range(num_neurons):\n",
    "            neuron = Circle(radius=0.3, color=BLUE).move_to(position + np.array([0, -i * 1.5, 0]))\n",
    "            neurons.add(neuron)\n",
    "            text = Text(label[0] + str(i + 1), font_size=24).move_to(neuron.get_center())\n",
    "            self.add(text)\n",
    "        self.add(neurons)\n",
    "        return neurons\n",
    "\n",
    "    def connect_layers(self, layer1, layer2):\n",
    "        \"\"\"Connect two layers of neurons with arrows.\"\"\"\n",
    "        for neuron1 in layer1:\n",
    "            for neuron2 in layer2:\n",
    "                arrow = Arrow(neuron1.get_center(), neuron2.get_center(), buff=0.3, color=GRAY)\n",
    "                self.add(arrow)\n",
    "\n",
    "    def play_forward_pass(self, input_neurons, hidden_neurons, output_neurons):\n",
    "        \"\"\"Animate the forward pass through the network.\"\"\"\n",
    "        # Highlight input neurons\n",
    "        self.play(*[neuron.animate.set_fill(YELLOW, opacity=0.8) for neuron in input_neurons])\n",
    "        self.wait(0.5)\n",
    "\n",
    "        # Animate connections to hidden layer\n",
    "        self.play(*[neuron.animate.set_fill(ORANGE, opacity=0.8) for neuron in hidden_neurons])\n",
    "        self.wait(0.5)\n",
    "\n",
    "        # Animate connection to output\n",
    "        self.play(output_neurons[0].animate.set_fill(RED, opacity=0.8))\n",
    "        self.wait(1)\n",
    "\n"
   ]
  }
 ],
 "metadata": {
  "kernelspec": {
   "display_name": "venv",
   "language": "python",
   "name": "python3"
  },
  "language_info": {
   "codemirror_mode": {
    "name": "ipython",
    "version": 3
   },
   "file_extension": ".py",
   "mimetype": "text/x-python",
   "name": "python",
   "nbconvert_exporter": "python",
   "pygments_lexer": "ipython3",
   "version": "3.10.12"
  }
 },
 "nbformat": 4,
 "nbformat_minor": 2
}
